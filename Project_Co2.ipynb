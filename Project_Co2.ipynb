{
  "nbformat": 4,
  "nbformat_minor": 0,
  "metadata": {
    "colab": {
      "provenance": []
    },
    "kernelspec": {
      "name": "python3",
      "display_name": "Python 3"
    },
    "language_info": {
      "name": "python"
    }
  },
  "cells": [
    {
      "cell_type": "code",
      "execution_count": null,
      "metadata": {
        "id": "isOQNgIrPQza"
      },
      "outputs": [],
      "source": [
        "import numpy as np\n",
        "import pandas as pd\n",
        "from sklearn.model_selection import train_test_split\n",
        "from sklearn.preprocessing import StandardScaler, OneHotEncoder\n",
        "from keras.models import Sequential\n",
        "from keras.layers import SimpleRNN, Dense\n",
        "\n",
        "# Load the dataset\n",
        "df = pd.read_csv('final_dataset.csv')"
      ]
    },
    {
      "cell_type": "code",
      "source": [
        "df.head()"
      ],
      "metadata": {
        "colab": {
          "base_uri": "https://localhost:8080/",
          "height": 434
        },
        "id": "1sUAR7v7XSin",
        "outputId": "b66bc1f3-f354-4ed5-ad2b-1783580d13b2"
      },
      "execution_count": null,
      "outputs": [
        {
          "output_type": "execute_result",
          "data": {
            "text/plain": [
              "    Product Base location Destination Mode of transport  \\\n",
              "0  Product4           USA       Italy               Sea   \n",
              "1  Product4         Japan      London               Air   \n",
              "2  Product4         Japan       Italy             Train   \n",
              "3  Product3       Germany      London               Air   \n",
              "4  Product5       Belgium       Italy             Train   \n",
              "\n",
              "                Transport partner  Fuel consumption  \\\n",
              "0        Ignas Logistics Services         18.641474   \n",
              "1        Ignas Logistics Services     120305.218839   \n",
              "2  IBridge International Logistic        165.676477   \n",
              "3  IBridge International Logistic      63202.465425   \n",
              "4  IBridge International Logistic        195.544843   \n",
              "\n",
              "   Distance travelled (in Kms)  Load factor  Tonne - Kilometer (tkm)  \\\n",
              "0                         1127           35                    39445   \n",
              "1                         3177           18                    57186   \n",
              "2                         9814           18                   176652   \n",
              "3                         9131           48                   438288   \n",
              "4                         6339           19                   120441   \n",
              "\n",
              "   Initial cost (USD)  Final cost (USD)  CO2 Emission (in Kg)  Savings (USD)  \n",
              "0                1987              1996             49.962746              9  \n",
              "1                4899            100242              4.549013          95343  \n",
              "2                1186              1251           1775.593239             65  \n",
              "3                1255             51343             66.364755          50088  \n",
              "4                4321              4398           1025.684421             77  "
            ],
            "text/html": [
              "\n",
              "  <div id=\"df-9d267f0d-bfe0-40ed-b0de-9b4cfae5766b\" class=\"colab-df-container\">\n",
              "    <div>\n",
              "<style scoped>\n",
              "    .dataframe tbody tr th:only-of-type {\n",
              "        vertical-align: middle;\n",
              "    }\n",
              "\n",
              "    .dataframe tbody tr th {\n",
              "        vertical-align: top;\n",
              "    }\n",
              "\n",
              "    .dataframe thead th {\n",
              "        text-align: right;\n",
              "    }\n",
              "</style>\n",
              "<table border=\"1\" class=\"dataframe\">\n",
              "  <thead>\n",
              "    <tr style=\"text-align: right;\">\n",
              "      <th></th>\n",
              "      <th>Product</th>\n",
              "      <th>Base location</th>\n",
              "      <th>Destination</th>\n",
              "      <th>Mode of transport</th>\n",
              "      <th>Transport partner</th>\n",
              "      <th>Fuel consumption</th>\n",
              "      <th>Distance travelled (in Kms)</th>\n",
              "      <th>Load factor</th>\n",
              "      <th>Tonne - Kilometer (tkm)</th>\n",
              "      <th>Initial cost (USD)</th>\n",
              "      <th>Final cost (USD)</th>\n",
              "      <th>CO2 Emission (in Kg)</th>\n",
              "      <th>Savings (USD)</th>\n",
              "    </tr>\n",
              "  </thead>\n",
              "  <tbody>\n",
              "    <tr>\n",
              "      <th>0</th>\n",
              "      <td>Product4</td>\n",
              "      <td>USA</td>\n",
              "      <td>Italy</td>\n",
              "      <td>Sea</td>\n",
              "      <td>Ignas Logistics Services</td>\n",
              "      <td>18.641474</td>\n",
              "      <td>1127</td>\n",
              "      <td>35</td>\n",
              "      <td>39445</td>\n",
              "      <td>1987</td>\n",
              "      <td>1996</td>\n",
              "      <td>49.962746</td>\n",
              "      <td>9</td>\n",
              "    </tr>\n",
              "    <tr>\n",
              "      <th>1</th>\n",
              "      <td>Product4</td>\n",
              "      <td>Japan</td>\n",
              "      <td>London</td>\n",
              "      <td>Air</td>\n",
              "      <td>Ignas Logistics Services</td>\n",
              "      <td>120305.218839</td>\n",
              "      <td>3177</td>\n",
              "      <td>18</td>\n",
              "      <td>57186</td>\n",
              "      <td>4899</td>\n",
              "      <td>100242</td>\n",
              "      <td>4.549013</td>\n",
              "      <td>95343</td>\n",
              "    </tr>\n",
              "    <tr>\n",
              "      <th>2</th>\n",
              "      <td>Product4</td>\n",
              "      <td>Japan</td>\n",
              "      <td>Italy</td>\n",
              "      <td>Train</td>\n",
              "      <td>IBridge International Logistic</td>\n",
              "      <td>165.676477</td>\n",
              "      <td>9814</td>\n",
              "      <td>18</td>\n",
              "      <td>176652</td>\n",
              "      <td>1186</td>\n",
              "      <td>1251</td>\n",
              "      <td>1775.593239</td>\n",
              "      <td>65</td>\n",
              "    </tr>\n",
              "    <tr>\n",
              "      <th>3</th>\n",
              "      <td>Product3</td>\n",
              "      <td>Germany</td>\n",
              "      <td>London</td>\n",
              "      <td>Air</td>\n",
              "      <td>IBridge International Logistic</td>\n",
              "      <td>63202.465425</td>\n",
              "      <td>9131</td>\n",
              "      <td>48</td>\n",
              "      <td>438288</td>\n",
              "      <td>1255</td>\n",
              "      <td>51343</td>\n",
              "      <td>66.364755</td>\n",
              "      <td>50088</td>\n",
              "    </tr>\n",
              "    <tr>\n",
              "      <th>4</th>\n",
              "      <td>Product5</td>\n",
              "      <td>Belgium</td>\n",
              "      <td>Italy</td>\n",
              "      <td>Train</td>\n",
              "      <td>IBridge International Logistic</td>\n",
              "      <td>195.544843</td>\n",
              "      <td>6339</td>\n",
              "      <td>19</td>\n",
              "      <td>120441</td>\n",
              "      <td>4321</td>\n",
              "      <td>4398</td>\n",
              "      <td>1025.684421</td>\n",
              "      <td>77</td>\n",
              "    </tr>\n",
              "  </tbody>\n",
              "</table>\n",
              "</div>\n",
              "    <div class=\"colab-df-buttons\">\n",
              "\n",
              "  <div class=\"colab-df-container\">\n",
              "    <button class=\"colab-df-convert\" onclick=\"convertToInteractive('df-9d267f0d-bfe0-40ed-b0de-9b4cfae5766b')\"\n",
              "            title=\"Convert this dataframe to an interactive table.\"\n",
              "            style=\"display:none;\">\n",
              "\n",
              "  <svg xmlns=\"http://www.w3.org/2000/svg\" height=\"24px\" viewBox=\"0 -960 960 960\">\n",
              "    <path d=\"M120-120v-720h720v720H120Zm60-500h600v-160H180v160Zm220 220h160v-160H400v160Zm0 220h160v-160H400v160ZM180-400h160v-160H180v160Zm440 0h160v-160H620v160ZM180-180h160v-160H180v160Zm440 0h160v-160H620v160Z\"/>\n",
              "  </svg>\n",
              "    </button>\n",
              "\n",
              "  <style>\n",
              "    .colab-df-container {\n",
              "      display:flex;\n",
              "      gap: 12px;\n",
              "    }\n",
              "\n",
              "    .colab-df-convert {\n",
              "      background-color: #E8F0FE;\n",
              "      border: none;\n",
              "      border-radius: 50%;\n",
              "      cursor: pointer;\n",
              "      display: none;\n",
              "      fill: #1967D2;\n",
              "      height: 32px;\n",
              "      padding: 0 0 0 0;\n",
              "      width: 32px;\n",
              "    }\n",
              "\n",
              "    .colab-df-convert:hover {\n",
              "      background-color: #E2EBFA;\n",
              "      box-shadow: 0px 1px 2px rgba(60, 64, 67, 0.3), 0px 1px 3px 1px rgba(60, 64, 67, 0.15);\n",
              "      fill: #174EA6;\n",
              "    }\n",
              "\n",
              "    .colab-df-buttons div {\n",
              "      margin-bottom: 4px;\n",
              "    }\n",
              "\n",
              "    [theme=dark] .colab-df-convert {\n",
              "      background-color: #3B4455;\n",
              "      fill: #D2E3FC;\n",
              "    }\n",
              "\n",
              "    [theme=dark] .colab-df-convert:hover {\n",
              "      background-color: #434B5C;\n",
              "      box-shadow: 0px 1px 3px 1px rgba(0, 0, 0, 0.15);\n",
              "      filter: drop-shadow(0px 1px 2px rgba(0, 0, 0, 0.3));\n",
              "      fill: #FFFFFF;\n",
              "    }\n",
              "  </style>\n",
              "\n",
              "    <script>\n",
              "      const buttonEl =\n",
              "        document.querySelector('#df-9d267f0d-bfe0-40ed-b0de-9b4cfae5766b button.colab-df-convert');\n",
              "      buttonEl.style.display =\n",
              "        google.colab.kernel.accessAllowed ? 'block' : 'none';\n",
              "\n",
              "      async function convertToInteractive(key) {\n",
              "        const element = document.querySelector('#df-9d267f0d-bfe0-40ed-b0de-9b4cfae5766b');\n",
              "        const dataTable =\n",
              "          await google.colab.kernel.invokeFunction('convertToInteractive',\n",
              "                                                    [key], {});\n",
              "        if (!dataTable) return;\n",
              "\n",
              "        const docLinkHtml = 'Like what you see? Visit the ' +\n",
              "          '<a target=\"_blank\" href=https://colab.research.google.com/notebooks/data_table.ipynb>data table notebook</a>'\n",
              "          + ' to learn more about interactive tables.';\n",
              "        element.innerHTML = '';\n",
              "        dataTable['output_type'] = 'display_data';\n",
              "        await google.colab.output.renderOutput(dataTable, element);\n",
              "        const docLink = document.createElement('div');\n",
              "        docLink.innerHTML = docLinkHtml;\n",
              "        element.appendChild(docLink);\n",
              "      }\n",
              "    </script>\n",
              "  </div>\n",
              "\n",
              "\n",
              "<div id=\"df-5ce46fd5-6fea-40bd-9e0f-d9d9e774017f\">\n",
              "  <button class=\"colab-df-quickchart\" onclick=\"quickchart('df-5ce46fd5-6fea-40bd-9e0f-d9d9e774017f')\"\n",
              "            title=\"Suggest charts\"\n",
              "            style=\"display:none;\">\n",
              "\n",
              "<svg xmlns=\"http://www.w3.org/2000/svg\" height=\"24px\"viewBox=\"0 0 24 24\"\n",
              "     width=\"24px\">\n",
              "    <g>\n",
              "        <path d=\"M19 3H5c-1.1 0-2 .9-2 2v14c0 1.1.9 2 2 2h14c1.1 0 2-.9 2-2V5c0-1.1-.9-2-2-2zM9 17H7v-7h2v7zm4 0h-2V7h2v10zm4 0h-2v-4h2v4z\"/>\n",
              "    </g>\n",
              "</svg>\n",
              "  </button>\n",
              "\n",
              "<style>\n",
              "  .colab-df-quickchart {\n",
              "      --bg-color: #E8F0FE;\n",
              "      --fill-color: #1967D2;\n",
              "      --hover-bg-color: #E2EBFA;\n",
              "      --hover-fill-color: #174EA6;\n",
              "      --disabled-fill-color: #AAA;\n",
              "      --disabled-bg-color: #DDD;\n",
              "  }\n",
              "\n",
              "  [theme=dark] .colab-df-quickchart {\n",
              "      --bg-color: #3B4455;\n",
              "      --fill-color: #D2E3FC;\n",
              "      --hover-bg-color: #434B5C;\n",
              "      --hover-fill-color: #FFFFFF;\n",
              "      --disabled-bg-color: #3B4455;\n",
              "      --disabled-fill-color: #666;\n",
              "  }\n",
              "\n",
              "  .colab-df-quickchart {\n",
              "    background-color: var(--bg-color);\n",
              "    border: none;\n",
              "    border-radius: 50%;\n",
              "    cursor: pointer;\n",
              "    display: none;\n",
              "    fill: var(--fill-color);\n",
              "    height: 32px;\n",
              "    padding: 0;\n",
              "    width: 32px;\n",
              "  }\n",
              "\n",
              "  .colab-df-quickchart:hover {\n",
              "    background-color: var(--hover-bg-color);\n",
              "    box-shadow: 0 1px 2px rgba(60, 64, 67, 0.3), 0 1px 3px 1px rgba(60, 64, 67, 0.15);\n",
              "    fill: var(--button-hover-fill-color);\n",
              "  }\n",
              "\n",
              "  .colab-df-quickchart-complete:disabled,\n",
              "  .colab-df-quickchart-complete:disabled:hover {\n",
              "    background-color: var(--disabled-bg-color);\n",
              "    fill: var(--disabled-fill-color);\n",
              "    box-shadow: none;\n",
              "  }\n",
              "\n",
              "  .colab-df-spinner {\n",
              "    border: 2px solid var(--fill-color);\n",
              "    border-color: transparent;\n",
              "    border-bottom-color: var(--fill-color);\n",
              "    animation:\n",
              "      spin 1s steps(1) infinite;\n",
              "  }\n",
              "\n",
              "  @keyframes spin {\n",
              "    0% {\n",
              "      border-color: transparent;\n",
              "      border-bottom-color: var(--fill-color);\n",
              "      border-left-color: var(--fill-color);\n",
              "    }\n",
              "    20% {\n",
              "      border-color: transparent;\n",
              "      border-left-color: var(--fill-color);\n",
              "      border-top-color: var(--fill-color);\n",
              "    }\n",
              "    30% {\n",
              "      border-color: transparent;\n",
              "      border-left-color: var(--fill-color);\n",
              "      border-top-color: var(--fill-color);\n",
              "      border-right-color: var(--fill-color);\n",
              "    }\n",
              "    40% {\n",
              "      border-color: transparent;\n",
              "      border-right-color: var(--fill-color);\n",
              "      border-top-color: var(--fill-color);\n",
              "    }\n",
              "    60% {\n",
              "      border-color: transparent;\n",
              "      border-right-color: var(--fill-color);\n",
              "    }\n",
              "    80% {\n",
              "      border-color: transparent;\n",
              "      border-right-color: var(--fill-color);\n",
              "      border-bottom-color: var(--fill-color);\n",
              "    }\n",
              "    90% {\n",
              "      border-color: transparent;\n",
              "      border-bottom-color: var(--fill-color);\n",
              "    }\n",
              "  }\n",
              "</style>\n",
              "\n",
              "  <script>\n",
              "    async function quickchart(key) {\n",
              "      const quickchartButtonEl =\n",
              "        document.querySelector('#' + key + ' button');\n",
              "      quickchartButtonEl.disabled = true;  // To prevent multiple clicks.\n",
              "      quickchartButtonEl.classList.add('colab-df-spinner');\n",
              "      try {\n",
              "        const charts = await google.colab.kernel.invokeFunction(\n",
              "            'suggestCharts', [key], {});\n",
              "      } catch (error) {\n",
              "        console.error('Error during call to suggestCharts:', error);\n",
              "      }\n",
              "      quickchartButtonEl.classList.remove('colab-df-spinner');\n",
              "      quickchartButtonEl.classList.add('colab-df-quickchart-complete');\n",
              "    }\n",
              "    (() => {\n",
              "      let quickchartButtonEl =\n",
              "        document.querySelector('#df-5ce46fd5-6fea-40bd-9e0f-d9d9e774017f button');\n",
              "      quickchartButtonEl.style.display =\n",
              "        google.colab.kernel.accessAllowed ? 'block' : 'none';\n",
              "    })();\n",
              "  </script>\n",
              "</div>\n",
              "\n",
              "    </div>\n",
              "  </div>\n"
            ],
            "application/vnd.google.colaboratory.intrinsic+json": {
              "type": "dataframe",
              "variable_name": "df",
              "summary": "{\n  \"name\": \"df\",\n  \"rows\": 5000,\n  \"fields\": [\n    {\n      \"column\": \"Product\",\n      \"properties\": {\n        \"dtype\": \"category\",\n        \"num_unique_values\": 5,\n        \"samples\": [\n          \"Product3\",\n          \"Product1\",\n          \"Product5\"\n        ],\n        \"semantic_type\": \"\",\n        \"description\": \"\"\n      }\n    },\n    {\n      \"column\": \"Base location\",\n      \"properties\": {\n        \"dtype\": \"category\",\n        \"num_unique_values\": 5,\n        \"samples\": [\n          \"Japan\",\n          \"China\",\n          \"Germany\"\n        ],\n        \"semantic_type\": \"\",\n        \"description\": \"\"\n      }\n    },\n    {\n      \"column\": \"Destination\",\n      \"properties\": {\n        \"dtype\": \"category\",\n        \"num_unique_values\": 5,\n        \"samples\": [\n          \"London\",\n          \"Australia\",\n          \"Canada\"\n        ],\n        \"semantic_type\": \"\",\n        \"description\": \"\"\n      }\n    },\n    {\n      \"column\": \"Mode of transport\",\n      \"properties\": {\n        \"dtype\": \"category\",\n        \"num_unique_values\": 3,\n        \"samples\": [\n          \"Sea\",\n          \"Air\",\n          \"Train\"\n        ],\n        \"semantic_type\": \"\",\n        \"description\": \"\"\n      }\n    },\n    {\n      \"column\": \"Transport partner\",\n      \"properties\": {\n        \"dtype\": \"category\",\n        \"num_unique_values\": 3,\n        \"samples\": [\n          \"Ignas Logistics Services\",\n          \"IBridge International Logistic\",\n          \"Ocean Freight Inc.\"\n        ],\n        \"semantic_type\": \"\",\n        \"description\": \"\"\n      }\n    },\n    {\n      \"column\": \"Fuel consumption\",\n      \"properties\": {\n        \"dtype\": \"number\",\n        \"std\": 64593.36266223841,\n        \"min\": 5.0030892120631565,\n        \"max\": 199954.9988176327,\n        \"num_unique_values\": 5000,\n        \"samples\": [\n          57190.81907982904,\n          109878.89279841309,\n          13.342182621991435\n        ],\n        \"semantic_type\": \"\",\n        \"description\": \"\"\n      }\n    },\n    {\n      \"column\": \"Distance travelled (in Kms)\",\n      \"properties\": {\n        \"dtype\": \"number\",\n        \"std\": 2614,\n        \"min\": 1001,\n        \"max\": 10000,\n        \"num_unique_values\": 3799,\n        \"samples\": [\n          9807,\n          9352,\n          2587\n        ],\n        \"semantic_type\": \"\",\n        \"description\": \"\"\n      }\n    },\n    {\n      \"column\": \"Load factor\",\n      \"properties\": {\n        \"dtype\": \"number\",\n        \"std\": 13,\n        \"min\": 5,\n        \"max\": 50,\n        \"num_unique_values\": 46,\n        \"samples\": [\n          26,\n          9,\n          6\n        ],\n        \"semantic_type\": \"\",\n        \"description\": \"\"\n      }\n    },\n    {\n      \"column\": \"Tonne - Kilometer (tkm)\",\n      \"properties\": {\n        \"dtype\": \"number\",\n        \"std\": 107007,\n        \"min\": 5865,\n        \"max\": 491900,\n        \"num_unique_values\": 4883,\n        \"samples\": [\n          63420,\n          222750,\n          434148\n        ],\n        \"semantic_type\": \"\",\n        \"description\": \"\"\n      }\n    },\n    {\n      \"column\": \"Initial cost (USD)\",\n      \"properties\": {\n        \"dtype\": \"number\",\n        \"std\": 1158,\n        \"min\": 1000,\n        \"max\": 4999,\n        \"num_unique_values\": 2829,\n        \"samples\": [\n          3966,\n          3581,\n          4030\n        ],\n        \"semantic_type\": \"\",\n        \"description\": \"\"\n      }\n    },\n    {\n      \"column\": \"Final cost (USD)\",\n      \"properties\": {\n        \"dtype\": \"number\",\n        \"std\": 51234,\n        \"min\": 1007,\n        \"max\": 162158,\n        \"num_unique_values\": 3981,\n        \"samples\": [\n          48565,\n          3056,\n          2167\n        ],\n        \"semantic_type\": \"\",\n        \"description\": \"\"\n      }\n    },\n    {\n      \"column\": \"CO2 Emission (in Kg)\",\n      \"properties\": {\n        \"dtype\": \"number\",\n        \"std\": 1529.9575483396916,\n        \"min\": 0.335947228830503,\n        \"max\": 13708.405043001983,\n        \"num_unique_values\": 5000,\n        \"samples\": [\n          12.669902821090458,\n          3.750000655321046,\n          69.3381304881223\n        ],\n        \"semantic_type\": \"\",\n        \"description\": \"\"\n      }\n    },\n    {\n      \"column\": \"Savings (USD)\",\n      \"properties\": {\n        \"dtype\": \"number\",\n        \"std\": 51202,\n        \"min\": 2,\n        \"max\": 158467,\n        \"num_unique_values\": 1759,\n        \"samples\": [\n          124689,\n          114893,\n          90542\n        ],\n        \"semantic_type\": \"\",\n        \"description\": \"\"\n      }\n    }\n  ]\n}"
            }
          },
          "metadata": {},
          "execution_count": 19
        }
      ]
    },
    {
      "cell_type": "markdown",
      "source": [
        "## RNN savings"
      ],
      "metadata": {
        "id": "JuF2vR89M2kW"
      }
    },
    {
      "cell_type": "code",
      "source": [
        "# Ensure the column names match with the provided dataset\n",
        "num_cols = ['Fuel consumption', 'Distance travelled (in Kms)', 'Load factor', 'Tonne - Kilometer (tkm)',\n",
        "            'Initial cost (USD)', 'Final cost (USD)', 'CO2 Emission (in Kg)']\n",
        "cat_cols = ['Product', 'Base location', 'Destination', 'Mode of transport', 'Transport partner']\n",
        "\n",
        "# One-hot encode categorical variables\n",
        "df_encoded = pd.get_dummies(df, columns=cat_cols)\n",
        "\n",
        "# Drop the target variable\n",
        "X = df_encoded.drop(['CO2 Emission (in Kg)'], axis=1)\n",
        "y = df_encoded['CO2 Emission (in Kg)']"
      ],
      "metadata": {
        "id": "l3PlY6R3M2kX"
      },
      "execution_count": null,
      "outputs": []
    },
    {
      "cell_type": "code",
      "source": [
        "# Split the dataset into training and testing sets with a 70-30 ratio\n",
        "X_train, X_test, y_train, y_test = train_test_split(X, y, test_size=0.3, random_state=42)\n",
        "\n",
        "# Standardize the features\n",
        "scaler = StandardScaler()\n",
        "X_train_scaled = scaler.fit_transform(X_train)\n",
        "X_test_scaled = scaler.transform(X_test)\n",
        "\n",
        "# Reshape the data for RNN input (samples, time steps, features)\n",
        "X_train_rnn = X_train_scaled.reshape(X_train_scaled.shape[0], 1, X_train_scaled.shape[1])\n",
        "X_test_rnn = X_test_scaled.reshape(X_test_scaled.shape[0], 1, X_test_scaled.shape[1])"
      ],
      "metadata": {
        "id": "Sw-s2xCdM2kb"
      },
      "execution_count": null,
      "outputs": []
    },
    {
      "cell_type": "code",
      "source": [
        "# Define the RNN model\n",
        "model = Sequential()\n",
        "model.add(SimpleRNN(units=50, input_shape=(X_train_rnn.shape[1], X_train_rnn.shape[2])))\n",
        "model.add(Dense(1))\n",
        "\n",
        "# Compile the model\n",
        "model.compile(optimizer='adam', loss='mean_squared_error')"
      ],
      "metadata": {
        "id": "qCgRFBpxM2kb"
      },
      "execution_count": null,
      "outputs": []
    },
    {
      "cell_type": "code",
      "source": [
        "model.summary()"
      ],
      "metadata": {
        "colab": {
          "base_uri": "https://localhost:8080/"
        },
        "outputId": "35fae1fd-913b-4eee-e8e9-9b580a3f3107",
        "id": "CTrsku_4M2kc"
      },
      "execution_count": null,
      "outputs": [
        {
          "output_type": "stream",
          "name": "stdout",
          "text": [
            "Model: \"sequential\"\n",
            "_________________________________________________________________\n",
            " Layer (type)                Output Shape              Param #   \n",
            "=================================================================\n",
            " simple_rnn (SimpleRNN)      (None, 50)                3950      \n",
            "                                                                 \n",
            " dense (Dense)               (None, 1)                 51        \n",
            "                                                                 \n",
            "=================================================================\n",
            "Total params: 4001 (15.63 KB)\n",
            "Trainable params: 4001 (15.63 KB)\n",
            "Non-trainable params: 0 (0.00 Byte)\n",
            "_________________________________________________________________\n"
          ]
        }
      ]
    },
    {
      "cell_type": "code",
      "source": [
        "import matplotlib.pyplot as plt\n",
        "\n",
        "# Train the model\n",
        "history = model.fit(X_train_rnn, y_train, epochs=150, batch_size=32, validation_data=(X_test_rnn, y_test))\n",
        "\n",
        "# Extract MSE values from history\n",
        "train_mse_values = history.history['loss']\n",
        "val_mse_values = history.history['val_loss']\n",
        "\n",
        "# Plot MSE values\n",
        "epochs = range(1, len(train_mse_values) + 1)\n",
        "plt.plot(epochs, train_mse_values, 'b', label='Training MSE')\n",
        "plt.plot(epochs, val_mse_values, 'r', label='Validation MSE')\n",
        "plt.title('Training and Validation Mean Squared Error')\n",
        "plt.xlabel('Epochs')\n",
        "plt.ylabel('MSE')\n",
        "plt.legend()\n",
        "plt.show()"
      ],
      "metadata": {
        "colab": {
          "base_uri": "https://localhost:8080/",
          "height": 1000
        },
        "id": "GllwTqk5OZW9",
        "outputId": "57fef17c-68bf-4d07-f7b0-dc2278bdd9b1"
      },
      "execution_count": null,
      "outputs": [
        {
          "output_type": "stream",
          "name": "stdout",
          "text": [
            "Epoch 1/150\n",
            "110/110 [==============================] - 2s 6ms/step - loss: 3096074.2500 - val_loss: 2997301.5000\n",
            "Epoch 2/150\n",
            "110/110 [==============================] - 0s 4ms/step - loss: 3083985.5000 - val_loss: 2982787.5000\n",
            "Epoch 3/150\n",
            "110/110 [==============================] - 0s 4ms/step - loss: 3069322.5000 - val_loss: 2968068.7500\n",
            "Epoch 4/150\n",
            "110/110 [==============================] - 0s 4ms/step - loss: 3055995.0000 - val_loss: 2955365.5000\n",
            "Epoch 5/150\n",
            "110/110 [==============================] - 0s 3ms/step - loss: 3044247.0000 - val_loss: 2943993.5000\n",
            "Epoch 6/150\n",
            "110/110 [==============================] - 0s 3ms/step - loss: 3033526.0000 - val_loss: 2933371.0000\n",
            "Epoch 7/150\n",
            "110/110 [==============================] - 0s 3ms/step - loss: 3023521.7500 - val_loss: 2923415.2500\n",
            "Epoch 8/150\n",
            "110/110 [==============================] - 0s 3ms/step - loss: 3013958.7500 - val_loss: 2913907.7500\n",
            "Epoch 9/150\n",
            "110/110 [==============================] - 0s 3ms/step - loss: 3004754.2500 - val_loss: 2904700.5000\n",
            "Epoch 10/150\n",
            "110/110 [==============================] - 0s 3ms/step - loss: 2995855.7500 - val_loss: 2895646.0000\n",
            "Epoch 11/150\n",
            "110/110 [==============================] - 0s 4ms/step - loss: 2987077.7500 - val_loss: 2886827.0000\n",
            "Epoch 12/150\n",
            "110/110 [==============================] - 0s 4ms/step - loss: 2978529.2500 - val_loss: 2878181.5000\n",
            "Epoch 13/150\n",
            "110/110 [==============================] - 1s 5ms/step - loss: 2970148.2500 - val_loss: 2869590.7500\n",
            "Epoch 14/150\n",
            "110/110 [==============================] - 0s 4ms/step - loss: 2961892.0000 - val_loss: 2861242.0000\n",
            "Epoch 15/150\n",
            "110/110 [==============================] - 1s 7ms/step - loss: 2953732.7500 - val_loss: 2852981.5000\n",
            "Epoch 16/150\n",
            "110/110 [==============================] - 1s 7ms/step - loss: 2945612.7500 - val_loss: 2844573.2500\n",
            "Epoch 17/150\n",
            "110/110 [==============================] - 1s 6ms/step - loss: 2937465.0000 - val_loss: 2836326.7500\n",
            "Epoch 18/150\n",
            "110/110 [==============================] - 1s 5ms/step - loss: 2929273.0000 - val_loss: 2827870.5000\n",
            "Epoch 19/150\n",
            "110/110 [==============================] - 1s 6ms/step - loss: 2920887.2500 - val_loss: 2819208.7500\n",
            "Epoch 20/150\n",
            "110/110 [==============================] - 1s 5ms/step - loss: 2912376.7500 - val_loss: 2810529.2500\n",
            "Epoch 21/150\n",
            "110/110 [==============================] - 1s 6ms/step - loss: 2903779.0000 - val_loss: 2801700.2500\n",
            "Epoch 22/150\n",
            "110/110 [==============================] - 1s 7ms/step - loss: 2895253.0000 - val_loss: 2793155.5000\n",
            "Epoch 23/150\n",
            "110/110 [==============================] - 1s 6ms/step - loss: 2886873.5000 - val_loss: 2784686.0000\n",
            "Epoch 24/150\n",
            "110/110 [==============================] - 0s 3ms/step - loss: 2878649.0000 - val_loss: 2776155.7500\n",
            "Epoch 25/150\n",
            "110/110 [==============================] - 0s 3ms/step - loss: 2870448.7500 - val_loss: 2767877.0000\n",
            "Epoch 26/150\n",
            "110/110 [==============================] - 0s 3ms/step - loss: 2862319.0000 - val_loss: 2759580.5000\n",
            "Epoch 27/150\n",
            "110/110 [==============================] - 0s 3ms/step - loss: 2854329.7500 - val_loss: 2751459.2500\n",
            "Epoch 28/150\n",
            "110/110 [==============================] - 0s 4ms/step - loss: 2846422.2500 - val_loss: 2743437.2500\n",
            "Epoch 29/150\n",
            "110/110 [==============================] - 0s 3ms/step - loss: 2838573.0000 - val_loss: 2735515.2500\n",
            "Epoch 30/150\n",
            "110/110 [==============================] - 0s 3ms/step - loss: 2830757.5000 - val_loss: 2727489.2500\n",
            "Epoch 31/150\n",
            "110/110 [==============================] - 0s 3ms/step - loss: 2822998.0000 - val_loss: 2719547.5000\n",
            "Epoch 32/150\n",
            "110/110 [==============================] - 0s 3ms/step - loss: 2815278.2500 - val_loss: 2711647.2500\n",
            "Epoch 33/150\n",
            "110/110 [==============================] - 0s 3ms/step - loss: 2807617.7500 - val_loss: 2703799.5000\n",
            "Epoch 34/150\n",
            "110/110 [==============================] - 0s 3ms/step - loss: 2800000.2500 - val_loss: 2696107.7500\n",
            "Epoch 35/150\n",
            "110/110 [==============================] - 0s 3ms/step - loss: 2792416.7500 - val_loss: 2688324.5000\n",
            "Epoch 36/150\n",
            "110/110 [==============================] - 0s 3ms/step - loss: 2784888.2500 - val_loss: 2680683.7500\n",
            "Epoch 37/150\n",
            "110/110 [==============================] - 0s 4ms/step - loss: 2777340.2500 - val_loss: 2672987.5000\n",
            "Epoch 38/150\n",
            "110/110 [==============================] - 1s 5ms/step - loss: 2769882.2500 - val_loss: 2665373.5000\n",
            "Epoch 39/150\n",
            "110/110 [==============================] - 1s 5ms/step - loss: 2762461.2500 - val_loss: 2657782.0000\n",
            "Epoch 40/150\n",
            "110/110 [==============================] - 1s 5ms/step - loss: 2755071.7500 - val_loss: 2650250.5000\n",
            "Epoch 41/150\n",
            "110/110 [==============================] - 1s 5ms/step - loss: 2747720.5000 - val_loss: 2642653.0000\n",
            "Epoch 42/150\n",
            "110/110 [==============================] - 0s 3ms/step - loss: 2740432.0000 - val_loss: 2635231.7500\n",
            "Epoch 43/150\n",
            "110/110 [==============================] - 0s 3ms/step - loss: 2733188.0000 - val_loss: 2627769.5000\n",
            "Epoch 44/150\n",
            "110/110 [==============================] - 0s 3ms/step - loss: 2725973.2500 - val_loss: 2620458.5000\n",
            "Epoch 45/150\n",
            "110/110 [==============================] - 0s 3ms/step - loss: 2718790.0000 - val_loss: 2613016.5000\n",
            "Epoch 46/150\n",
            "110/110 [==============================] - 0s 3ms/step - loss: 2711596.5000 - val_loss: 2605716.5000\n",
            "Epoch 47/150\n",
            "110/110 [==============================] - 0s 3ms/step - loss: 2704451.0000 - val_loss: 2598488.0000\n",
            "Epoch 48/150\n",
            "110/110 [==============================] - 0s 3ms/step - loss: 2697352.7500 - val_loss: 2591108.2500\n",
            "Epoch 49/150\n",
            "110/110 [==============================] - 0s 3ms/step - loss: 2690289.7500 - val_loss: 2583892.7500\n",
            "Epoch 50/150\n",
            "110/110 [==============================] - 0s 4ms/step - loss: 2683230.2500 - val_loss: 2576737.5000\n",
            "Epoch 51/150\n",
            "110/110 [==============================] - 0s 3ms/step - loss: 2676184.0000 - val_loss: 2569550.2500\n",
            "Epoch 52/150\n",
            "110/110 [==============================] - 0s 3ms/step - loss: 2669142.0000 - val_loss: 2562278.5000\n",
            "Epoch 53/150\n",
            "110/110 [==============================] - 0s 3ms/step - loss: 2662201.7500 - val_loss: 2555110.5000\n",
            "Epoch 54/150\n",
            "110/110 [==============================] - 0s 3ms/step - loss: 2655289.2500 - val_loss: 2548131.7500\n",
            "Epoch 55/150\n",
            "110/110 [==============================] - 0s 3ms/step - loss: 2648411.7500 - val_loss: 2541017.7500\n",
            "Epoch 56/150\n",
            "110/110 [==============================] - 0s 3ms/step - loss: 2641563.7500 - val_loss: 2534052.2500\n",
            "Epoch 57/150\n",
            "110/110 [==============================] - 0s 3ms/step - loss: 2634761.2500 - val_loss: 2527035.0000\n",
            "Epoch 58/150\n",
            "110/110 [==============================] - 0s 3ms/step - loss: 2627927.0000 - val_loss: 2520089.7500\n",
            "Epoch 59/150\n",
            "110/110 [==============================] - 0s 3ms/step - loss: 2621115.5000 - val_loss: 2513085.0000\n",
            "Epoch 60/150\n",
            "110/110 [==============================] - 0s 4ms/step - loss: 2614373.5000 - val_loss: 2506212.2500\n",
            "Epoch 61/150\n",
            "110/110 [==============================] - 0s 3ms/step - loss: 2607612.5000 - val_loss: 2499259.7500\n",
            "Epoch 62/150\n",
            "110/110 [==============================] - 0s 3ms/step - loss: 2600942.5000 - val_loss: 2492415.7500\n",
            "Epoch 63/150\n",
            "110/110 [==============================] - 0s 3ms/step - loss: 2594286.5000 - val_loss: 2485588.7500\n",
            "Epoch 64/150\n",
            "110/110 [==============================] - 0s 3ms/step - loss: 2587650.7500 - val_loss: 2478813.2500\n",
            "Epoch 65/150\n",
            "110/110 [==============================] - 0s 3ms/step - loss: 2581048.2500 - val_loss: 2472062.2500\n",
            "Epoch 66/150\n",
            "110/110 [==============================] - 0s 3ms/step - loss: 2574481.7500 - val_loss: 2465258.0000\n",
            "Epoch 67/150\n",
            "110/110 [==============================] - 0s 3ms/step - loss: 2567911.7500 - val_loss: 2458689.5000\n",
            "Epoch 68/150\n",
            "110/110 [==============================] - 0s 3ms/step - loss: 2561392.0000 - val_loss: 2452032.2500\n",
            "Epoch 69/150\n",
            "110/110 [==============================] - 0s 3ms/step - loss: 2554864.5000 - val_loss: 2445257.7500\n",
            "Epoch 70/150\n",
            "110/110 [==============================] - 0s 3ms/step - loss: 2548363.5000 - val_loss: 2438691.2500\n",
            "Epoch 71/150\n",
            "110/110 [==============================] - 0s 3ms/step - loss: 2541873.5000 - val_loss: 2431928.5000\n",
            "Epoch 72/150\n",
            "110/110 [==============================] - 0s 4ms/step - loss: 2535425.7500 - val_loss: 2425448.2500\n",
            "Epoch 73/150\n",
            "110/110 [==============================] - 1s 5ms/step - loss: 2529047.0000 - val_loss: 2418890.5000\n",
            "Epoch 74/150\n",
            "110/110 [==============================] - 1s 5ms/step - loss: 2522629.2500 - val_loss: 2412312.0000\n",
            "Epoch 75/150\n",
            "110/110 [==============================] - 1s 5ms/step - loss: 2516222.7500 - val_loss: 2405849.0000\n",
            "Epoch 76/150\n",
            "110/110 [==============================] - 0s 4ms/step - loss: 2509869.2500 - val_loss: 2399256.2500\n",
            "Epoch 77/150\n",
            "110/110 [==============================] - 0s 3ms/step - loss: 2503453.7500 - val_loss: 2392758.2500\n",
            "Epoch 78/150\n",
            "110/110 [==============================] - 0s 3ms/step - loss: 2497152.2500 - val_loss: 2386216.0000\n",
            "Epoch 79/150\n",
            "110/110 [==============================] - 0s 3ms/step - loss: 2490878.2500 - val_loss: 2379820.5000\n",
            "Epoch 80/150\n",
            "110/110 [==============================] - 0s 3ms/step - loss: 2484645.2500 - val_loss: 2373383.7500\n",
            "Epoch 81/150\n",
            "110/110 [==============================] - 0s 3ms/step - loss: 2478417.7500 - val_loss: 2367042.7500\n",
            "Epoch 82/150\n",
            "110/110 [==============================] - 0s 3ms/step - loss: 2472212.7500 - val_loss: 2360711.5000\n",
            "Epoch 83/150\n",
            "110/110 [==============================] - 0s 3ms/step - loss: 2465961.5000 - val_loss: 2354304.7500\n",
            "Epoch 84/150\n",
            "110/110 [==============================] - 0s 3ms/step - loss: 2459708.5000 - val_loss: 2347978.0000\n",
            "Epoch 85/150\n",
            "110/110 [==============================] - 0s 3ms/step - loss: 2453514.0000 - val_loss: 2341588.7500\n",
            "Epoch 86/150\n",
            "110/110 [==============================] - 0s 3ms/step - loss: 2447377.2500 - val_loss: 2335277.5000\n",
            "Epoch 87/150\n",
            "110/110 [==============================] - 0s 3ms/step - loss: 2441280.2500 - val_loss: 2329118.0000\n",
            "Epoch 88/150\n",
            "110/110 [==============================] - 0s 3ms/step - loss: 2435210.0000 - val_loss: 2322878.7500\n",
            "Epoch 89/150\n",
            "110/110 [==============================] - 0s 3ms/step - loss: 2429160.2500 - val_loss: 2316662.7500\n",
            "Epoch 90/150\n",
            "110/110 [==============================] - 0s 3ms/step - loss: 2423084.2500 - val_loss: 2310462.0000\n",
            "Epoch 91/150\n",
            "110/110 [==============================] - 0s 3ms/step - loss: 2417030.5000 - val_loss: 2304236.7500\n",
            "Epoch 92/150\n",
            "110/110 [==============================] - 0s 3ms/step - loss: 2410970.5000 - val_loss: 2298077.7500\n",
            "Epoch 93/150\n",
            "110/110 [==============================] - 0s 3ms/step - loss: 2404965.7500 - val_loss: 2291959.2500\n",
            "Epoch 94/150\n",
            "110/110 [==============================] - 0s 3ms/step - loss: 2399034.7500 - val_loss: 2285805.2500\n",
            "Epoch 95/150\n",
            "110/110 [==============================] - 0s 3ms/step - loss: 2393093.0000 - val_loss: 2279721.2500\n",
            "Epoch 96/150\n",
            "110/110 [==============================] - 0s 3ms/step - loss: 2387166.5000 - val_loss: 2273640.0000\n",
            "Epoch 97/150\n",
            "110/110 [==============================] - 0s 3ms/step - loss: 2381275.5000 - val_loss: 2267705.0000\n",
            "Epoch 98/150\n",
            "110/110 [==============================] - 0s 3ms/step - loss: 2375373.7500 - val_loss: 2261601.2500\n",
            "Epoch 99/150\n",
            "110/110 [==============================] - 0s 3ms/step - loss: 2369511.0000 - val_loss: 2255662.0000\n",
            "Epoch 100/150\n",
            "110/110 [==============================] - 0s 3ms/step - loss: 2363634.0000 - val_loss: 2249657.7500\n",
            "Epoch 101/150\n",
            "110/110 [==============================] - 0s 3ms/step - loss: 2357828.2500 - val_loss: 2243655.7500\n",
            "Epoch 102/150\n",
            "110/110 [==============================] - 0s 3ms/step - loss: 2352036.7500 - val_loss: 2237701.0000\n",
            "Epoch 103/150\n",
            "110/110 [==============================] - 0s 3ms/step - loss: 2346272.5000 - val_loss: 2231821.2500\n",
            "Epoch 104/150\n",
            "110/110 [==============================] - 0s 3ms/step - loss: 2340527.0000 - val_loss: 2225999.7500\n",
            "Epoch 105/150\n",
            "110/110 [==============================] - 0s 3ms/step - loss: 2334804.0000 - val_loss: 2219995.2500\n",
            "Epoch 106/150\n",
            "110/110 [==============================] - 0s 4ms/step - loss: 2329079.2500 - val_loss: 2214230.0000\n",
            "Epoch 107/150\n",
            "110/110 [==============================] - 1s 5ms/step - loss: 2323365.5000 - val_loss: 2208365.0000\n",
            "Epoch 108/150\n",
            "110/110 [==============================] - 1s 5ms/step - loss: 2317674.5000 - val_loss: 2202667.2500\n",
            "Epoch 109/150\n",
            "110/110 [==============================] - 1s 5ms/step - loss: 2312022.5000 - val_loss: 2196887.2500\n",
            "Epoch 110/150\n",
            "110/110 [==============================] - 1s 5ms/step - loss: 2306358.7500 - val_loss: 2191108.0000\n",
            "Epoch 111/150\n",
            "110/110 [==============================] - 0s 3ms/step - loss: 2300696.2500 - val_loss: 2185311.5000\n",
            "Epoch 112/150\n",
            "110/110 [==============================] - 0s 3ms/step - loss: 2295060.0000 - val_loss: 2179581.2500\n",
            "Epoch 113/150\n",
            "110/110 [==============================] - 0s 3ms/step - loss: 2289428.7500 - val_loss: 2173884.5000\n",
            "Epoch 114/150\n",
            "110/110 [==============================] - 0s 3ms/step - loss: 2283840.5000 - val_loss: 2168182.0000\n",
            "Epoch 115/150\n",
            "110/110 [==============================] - 0s 3ms/step - loss: 2278279.5000 - val_loss: 2162440.7500\n",
            "Epoch 116/150\n",
            "110/110 [==============================] - 0s 3ms/step - loss: 2272745.5000 - val_loss: 2156865.2500\n",
            "Epoch 117/150\n",
            "110/110 [==============================] - 0s 3ms/step - loss: 2267145.7500 - val_loss: 2151153.5000\n",
            "Epoch 118/150\n",
            "110/110 [==============================] - 0s 3ms/step - loss: 2261615.5000 - val_loss: 2145588.2500\n",
            "Epoch 119/150\n",
            "110/110 [==============================] - 0s 3ms/step - loss: 2256122.5000 - val_loss: 2139912.0000\n",
            "Epoch 120/150\n",
            "110/110 [==============================] - 0s 3ms/step - loss: 2250626.7500 - val_loss: 2134354.0000\n",
            "Epoch 121/150\n",
            "110/110 [==============================] - 0s 3ms/step - loss: 2245171.7500 - val_loss: 2128753.2500\n",
            "Epoch 122/150\n",
            "110/110 [==============================] - 0s 3ms/step - loss: 2239704.5000 - val_loss: 2123250.7500\n",
            "Epoch 123/150\n",
            "110/110 [==============================] - 0s 3ms/step - loss: 2234261.2500 - val_loss: 2117749.5000\n",
            "Epoch 124/150\n",
            "110/110 [==============================] - 0s 4ms/step - loss: 2228821.2500 - val_loss: 2112271.2500\n",
            "Epoch 125/150\n",
            "110/110 [==============================] - 0s 3ms/step - loss: 2223397.5000 - val_loss: 2106726.5000\n",
            "Epoch 126/150\n",
            "110/110 [==============================] - 0s 3ms/step - loss: 2217988.2500 - val_loss: 2101175.7500\n",
            "Epoch 127/150\n",
            "110/110 [==============================] - 0s 3ms/step - loss: 2212605.5000 - val_loss: 2095725.8750\n",
            "Epoch 128/150\n",
            "110/110 [==============================] - 0s 3ms/step - loss: 2207217.7500 - val_loss: 2090279.6250\n",
            "Epoch 129/150\n",
            "110/110 [==============================] - 0s 3ms/step - loss: 2201869.5000 - val_loss: 2084796.2500\n",
            "Epoch 130/150\n",
            "110/110 [==============================] - 0s 3ms/step - loss: 2196517.2500 - val_loss: 2079351.1250\n",
            "Epoch 131/150\n",
            "110/110 [==============================] - 0s 3ms/step - loss: 2191153.7500 - val_loss: 2073979.8750\n",
            "Epoch 132/150\n",
            "110/110 [==============================] - 0s 3ms/step - loss: 2185827.0000 - val_loss: 2068632.8750\n",
            "Epoch 133/150\n",
            "110/110 [==============================] - 0s 3ms/step - loss: 2180514.2500 - val_loss: 2063106.8750\n",
            "Epoch 134/150\n",
            "110/110 [==============================] - 0s 4ms/step - loss: 2175190.2500 - val_loss: 2057793.5000\n",
            "Epoch 135/150\n",
            "110/110 [==============================] - 0s 3ms/step - loss: 2169893.5000 - val_loss: 2052498.2500\n",
            "Epoch 136/150\n",
            "110/110 [==============================] - 0s 3ms/step - loss: 2164646.0000 - val_loss: 2047137.0000\n",
            "Epoch 137/150\n",
            "110/110 [==============================] - 0s 3ms/step - loss: 2159397.5000 - val_loss: 2041776.0000\n",
            "Epoch 138/150\n",
            "110/110 [==============================] - 0s 3ms/step - loss: 2154179.0000 - val_loss: 2036438.1250\n",
            "Epoch 139/150\n",
            "110/110 [==============================] - 0s 3ms/step - loss: 2148945.5000 - val_loss: 2031146.3750\n",
            "Epoch 140/150\n",
            "110/110 [==============================] - 0s 4ms/step - loss: 2143748.2500 - val_loss: 2025937.1250\n",
            "Epoch 141/150\n",
            "110/110 [==============================] - 1s 5ms/step - loss: 2138559.5000 - val_loss: 2020614.6250\n",
            "Epoch 142/150\n",
            "110/110 [==============================] - 1s 5ms/step - loss: 2133430.7500 - val_loss: 2015376.7500\n",
            "Epoch 143/150\n",
            "110/110 [==============================] - 1s 5ms/step - loss: 2128304.7500 - val_loss: 2010342.2500\n",
            "Epoch 144/150\n",
            "110/110 [==============================] - 1s 5ms/step - loss: 2123217.7500 - val_loss: 2005059.8750\n",
            "Epoch 145/150\n",
            "110/110 [==============================] - 0s 3ms/step - loss: 2118087.7500 - val_loss: 2000067.6250\n",
            "Epoch 146/150\n",
            "110/110 [==============================] - 0s 3ms/step - loss: 2113008.2500 - val_loss: 1994711.8750\n",
            "Epoch 147/150\n",
            "110/110 [==============================] - 0s 3ms/step - loss: 2107950.0000 - val_loss: 1989623.1250\n",
            "Epoch 148/150\n",
            "110/110 [==============================] - 0s 3ms/step - loss: 2102902.0000 - val_loss: 1984581.6250\n",
            "Epoch 149/150\n",
            "110/110 [==============================] - 0s 3ms/step - loss: 2097843.2500 - val_loss: 1979401.0000\n",
            "Epoch 150/150\n",
            "110/110 [==============================] - 0s 3ms/step - loss: 2092833.2500 - val_loss: 1974333.6250\n"
          ]
        },
        {
          "output_type": "display_data",
          "data": {
            "text/plain": [
              "<Figure size 640x480 with 1 Axes>"
            ],
            "image/png": "[encoded data removed]"
          },
          "metadata": {}
        }
      ]
    },
    {
      "cell_type": "code",
      "source": [
        "model.save('rnn.h5')"
      ],
      "metadata": {
        "colab": {
          "base_uri": "https://localhost:8080/"
        },
        "id": "ajUeMeOYDTXI",
        "outputId": "3f634d97-4f29-4aca-9088-750c64913afa"
      },
      "execution_count": null,
      "outputs": [
        {
          "output_type": "stream",
          "name": "stderr",
          "text": [
            "/usr/local/lib/python3.10/dist-packages/keras/src/engine/training.py:3103: UserWarning: You are saving your model as an HDF5 file via `model.save()`. This file format is considered legacy. We recommend using instead the native Keras format, e.g. `model.save('my_model.keras')`.\n",
            "  saving_api.save_model(\n"
          ]
        }
      ]
    },
    {
      "cell_type": "code",
      "source": [],
      "metadata": {
        "id": "O511PsEJQXqP"
      },
      "execution_count": null,
      "outputs": []
    },
    {
      "cell_type": "markdown",
      "source": [
        "## Neural model Co2 emission"
      ],
      "metadata": {
        "id": "ssqVgeyDM2kP"
      }
    },
    {
      "cell_type": "code",
      "source": [
        "import numpy as np\n",
        "import pandas as pd\n",
        "from sklearn.preprocessing import StandardScaler\n",
        "from keras.models import Sequential\n",
        "from keras.layers import Dense\n",
        "from sklearn.metrics import mean_squared_error, mean_absolute_error"
      ],
      "metadata": {
        "id": "RbdEksmcM2kR"
      },
      "execution_count": null,
      "outputs": []
    },
    {
      "cell_type": "code",
      "source": [
        "df = pd.read_csv('final_dataset.csv')\n",
        "num_cols = ['Fuel consumption', 'Distance travelled (in Kms)', 'Load factor', 'Tonne - Kilometer (tkm)',\n",
        "            'Initial cost (USD)', 'Final cost (USD)', 'CO2 Emission (in Kg)']\n",
        "y_true = df['CO2 Emission (in Kg)']\n",
        "cat_cols = ['Product', 'Base location', 'Destination', 'Mode of transport', 'Transport partner']\n",
        "df_encoded = pd.get_dummies(df[cat_cols])\n",
        "X = pd.concat([df[num_cols], df_encoded], axis=1)\n",
        "scaler = StandardScaler()\n",
        "scaler.fit(X)\n",
        "X_scaled = scaler.transform(X)"
      ],
      "metadata": {
        "id": "1JQrAQktM2kT"
      },
      "execution_count": null,
      "outputs": []
    },
    {
      "cell_type": "code",
      "source": [
        "# Define the model\n",
        "model = Sequential()\n",
        "model.add(Dense(64, input_dim=X_scaled.shape[1], activation='relu'))\n",
        "model.add(Dense(32, activation='relu'))\n",
        "model.add(Dense(1, activation='linear'))\n",
        "\n",
        "# Compile the model\n",
        "model.compile(optimizer='adam', loss='mean_squared_error')"
      ],
      "metadata": {
        "id": "qWx8Kk8YM2kT"
      },
      "execution_count": null,
      "outputs": []
    },
    {
      "cell_type": "code",
      "source": [
        "model.summary()"
      ],
      "metadata": {
        "colab": {
          "base_uri": "https://localhost:8080/"
        },
        "outputId": "52af5dc0-7a3d-4ca5-80ab-5a4d002c7707",
        "id": "JoMLIPeMM2kU"
      },
      "execution_count": null,
      "outputs": [
        {
          "output_type": "stream",
          "name": "stdout",
          "text": [
            "Model: \"sequential_16\"\n",
            "_________________________________________________________________\n",
            " Layer (type)                Output Shape              Param #   \n",
            "=================================================================\n",
            " dense_20 (Dense)            (None, 64)                1856      \n",
            "                                                                 \n",
            " dense_21 (Dense)            (None, 32)                2080      \n",
            "                                                                 \n",
            " dense_22 (Dense)            (None, 1)                 33        \n",
            "                                                                 \n",
            "=================================================================\n",
            "Total params: 3969 (15.50 KB)\n",
            "Trainable params: 3969 (15.50 KB)\n",
            "Non-trainable params: 0 (0.00 Byte)\n",
            "_________________________________________________________________\n"
          ]
        }
      ]
    },
    {
      "cell_type": "code",
      "source": [
        "# Train the model\n",
        "model.fit(X_scaled, y_true, epochs=20, batch_size=32, verbose=1)\n",
        "\n",
        "# Make predictions\n",
        "y_pred = model.predict(X_scaled)\n",
        "\n",
        "# Compute Mean Squared Error (MSE)\n",
        "mse = mean_squared_error(y_true, y_pred)\n",
        "\n",
        "# Compute Mean Absolute Error (MAE)\n",
        "mae = mean_absolute_error(y_true, y_pred)\n",
        "\n",
        "print(\"Mean Squared Error (MSE):\", mse)\n",
        "print(\"Mean Absolute Error (MAE):\", mae)"
      ],
      "metadata": {
        "colab": {
          "base_uri": "https://localhost:8080/"
        },
        "outputId": "9dc6c736-98bd-4533-f9a1-f69fd796e984",
        "id": "-OfDEjEPM2kW"
      },
      "execution_count": null,
      "outputs": [
        {
          "output_type": "stream",
          "name": "stdout",
          "text": [
            "Epoch 1/20\n",
            "157/157 [==============================] - 1s 2ms/step - loss: 3050581.7500\n",
            "Epoch 2/20\n",
            "157/157 [==============================] - 0s 2ms/step - loss: 2664831.7500\n",
            "Epoch 3/20\n",
            "157/157 [==============================] - 0s 2ms/step - loss: 1455847.2500\n",
            "Epoch 4/20\n",
            "157/157 [==============================] - 0s 2ms/step - loss: 548740.0000\n",
            "Epoch 5/20\n",
            "157/157 [==============================] - 0s 2ms/step - loss: 360693.8438\n",
            "Epoch 6/20\n",
            "157/157 [==============================] - 0s 2ms/step - loss: 304993.9375\n",
            "Epoch 7/20\n",
            "157/157 [==============================] - 0s 2ms/step - loss: 263702.8125\n",
            "Epoch 8/20\n",
            "157/157 [==============================] - 0s 2ms/step - loss: 226960.8438\n",
            "Epoch 9/20\n",
            "157/157 [==============================] - 0s 2ms/step - loss: 195699.5469\n",
            "Epoch 10/20\n",
            "157/157 [==============================] - 0s 2ms/step - loss: 168253.4844\n",
            "Epoch 11/20\n",
            "157/157 [==============================] - 0s 2ms/step - loss: 142565.6875\n",
            "Epoch 12/20\n",
            "157/157 [==============================] - 0s 2ms/step - loss: 120776.1016\n",
            "Epoch 13/20\n",
            "157/157 [==============================] - 0s 2ms/step - loss: 101107.7031\n",
            "Epoch 14/20\n",
            "157/157 [==============================] - 0s 2ms/step - loss: 84147.1719\n",
            "Epoch 15/20\n",
            "157/157 [==============================] - 0s 2ms/step - loss: 68387.9375\n",
            "Epoch 16/20\n",
            "157/157 [==============================] - 0s 2ms/step - loss: 54918.7852\n",
            "Epoch 17/20\n",
            "157/157 [==============================] - 0s 2ms/step - loss: 43228.4922\n",
            "Epoch 18/20\n",
            "157/157 [==============================] - 0s 2ms/step - loss: 33347.6992\n",
            "Epoch 19/20\n",
            "157/157 [==============================] - 0s 2ms/step - loss: 25283.1934\n",
            "Epoch 20/20\n",
            "157/157 [==============================] - 0s 2ms/step - loss: 19101.6465\n",
            "157/157 [==============================] - 0s 1ms/step\n",
            "Mean Squared Error (MSE): 16392.070705330487\n",
            "Mean Absolute Error (MAE): 77.50851310146179\n"
          ]
        }
      ]
    },
    {
      "cell_type": "code",
      "source": [
        "import matplotlib.pyplot as plt\n",
        "\n",
        "# Extract MSE values from history\n",
        "train_mse_values = history.history['loss']\n",
        "val_mse_values = history.history['val_loss']\n",
        "\n",
        "# Plot MSE values\n",
        "epochs = range(1, len(train_mse_values) + 1)\n",
        "plt.plot(epochs, train_mse_values, 'b', label='Training MSE')\n",
        "plt.plot(epochs, val_mse_values, 'r', label='Validation MSE')\n",
        "plt.title('Training and Validation Mean Squared Error')\n",
        "plt.xlabel('Epochs')\n",
        "plt.ylabel('MSE')\n",
        "plt.legend()\n",
        "plt.show()\n"
      ],
      "metadata": {
        "colab": {
          "base_uri": "https://localhost:8080/",
          "height": 472
        },
        "id": "BwHsWdr8NwZq",
        "outputId": "4f807162-9e90-43fc-9f53-649176f26d3a"
      },
      "execution_count": null,
      "outputs": [
        {
          "output_type": "display_data",
          "data": {
            "text/plain": [
              "<Figure size 640x480 with 1 Axes>"
            ],
            "image/png": "[encoded data removed]"
          },
          "metadata": {}
        }
      ]
    },
    {
      "cell_type": "markdown",
      "source": [
        "## Linear Regression"
      ],
      "metadata": {
        "id": "RhfoJXRlRN5D"
      }
    },
    {
      "cell_type": "code",
      "source": [
        "from sklearn.linear_model import LinearRegression\n",
        "model = LinearRegression()\n",
        "model.fit(X_train,y_train)"
      ],
      "metadata": {
        "colab": {
          "base_uri": "https://localhost:8080/",
          "height": 75
        },
        "id": "T2ClBP1fIv31",
        "outputId": "2ac6b9a5-07cb-444a-f08d-d9328b0f712c"
      },
      "execution_count": null,
      "outputs": [
        {
          "output_type": "execute_result",
          "data": {
            "text/plain": [
              "LinearRegression()"
            ],
            "text/html": [
              "<style>#sk-container-id-1 {color: black;background-color: white;}#sk-container-id-1 pre{padding: 0;}#sk-container-id-1 div.sk-toggleable {background-color: white;}#sk-container-id-1 label.sk-toggleable__label {cursor: pointer;display: block;width: 100%;margin-bottom: 0;padding: 0.3em;box-sizing: border-box;text-align: center;}#sk-container-id-1 label.sk-toggleable__label-arrow:before {content: \"▸\";float: left;margin-right: 0.25em;color: #696969;}#sk-container-id-1 label.sk-toggleable__label-arrow:hover:before {color: black;}#sk-container-id-1 div.sk-estimator:hover label.sk-toggleable__label-arrow:before {color: black;}#sk-container-id-1 div.sk-toggleable__content {max-height: 0;max-width: 0;overflow: hidden;text-align: left;background-color: #f0f8ff;}#sk-container-id-1 div.sk-toggleable__content pre {margin: 0.2em;color: black;border-radius: 0.25em;background-color: #f0f8ff;}#sk-container-id-1 input.sk-toggleable__control:checked~div.sk-toggleable__content {max-height: 200px;max-width: 100%;overflow: auto;}#sk-container-id-1 input.sk-toggleable__control:checked~label.sk-toggleable__label-arrow:before {content: \"▾\";}#sk-container-id-1 div.sk-estimator input.sk-toggleable__control:checked~label.sk-toggleable__label {background-color: #d4ebff;}#sk-container-id-1 div.sk-label input.sk-toggleable__control:checked~label.sk-toggleable__label {background-color: #d4ebff;}#sk-container-id-1 input.sk-hidden--visually {border: 0;clip: rect(1px 1px 1px 1px);clip: rect(1px, 1px, 1px, 1px);height: 1px;margin: -1px;overflow: hidden;padding: 0;position: absolute;width: 1px;}#sk-container-id-1 div.sk-estimator {font-family: monospace;background-color: #f0f8ff;border: 1px dotted black;border-radius: 0.25em;box-sizing: border-box;margin-bottom: 0.5em;}#sk-container-id-1 div.sk-estimator:hover {background-color: #d4ebff;}#sk-container-id-1 div.sk-parallel-item::after {content: \"\";width: 100%;border-bottom: 1px solid gray;flex-grow: 1;}#sk-container-id-1 div.sk-label:hover label.sk-toggleable__label {background-color: #d4ebff;}#sk-container-id-1 div.sk-serial::before {content: \"\";position: absolute;border-left: 1px solid gray;box-sizing: border-box;top: 0;bottom: 0;left: 50%;z-index: 0;}#sk-container-id-1 div.sk-serial {display: flex;flex-direction: column;align-items: center;background-color: white;padding-right: 0.2em;padding-left: 0.2em;position: relative;}#sk-container-id-1 div.sk-item {position: relative;z-index: 1;}#sk-container-id-1 div.sk-parallel {display: flex;align-items: stretch;justify-content: center;background-color: white;position: relative;}#sk-container-id-1 div.sk-item::before, #sk-container-id-1 div.sk-parallel-item::before {content: \"\";position: absolute;border-left: 1px solid gray;box-sizing: border-box;top: 0;bottom: 0;left: 50%;z-index: -1;}#sk-container-id-1 div.sk-parallel-item {display: flex;flex-direction: column;z-index: 1;position: relative;background-color: white;}#sk-container-id-1 div.sk-parallel-item:first-child::after {align-self: flex-end;width: 50%;}#sk-container-id-1 div.sk-parallel-item:last-child::after {align-self: flex-start;width: 50%;}#sk-container-id-1 div.sk-parallel-item:only-child::after {width: 0;}#sk-container-id-1 div.sk-dashed-wrapped {border: 1px dashed gray;margin: 0 0.4em 0.5em 0.4em;box-sizing: border-box;padding-bottom: 0.4em;background-color: white;}#sk-container-id-1 div.sk-label label {font-family: monospace;font-weight: bold;display: inline-block;line-height: 1.2em;}#sk-container-id-1 div.sk-label-container {text-align: center;}#sk-container-id-1 div.sk-container {/* jupyter's `normalize.less` sets `[hidden] { display: none; }` but bootstrap.min.css set `[hidden] { display: none !important; }` so we also need the `!important` here to be able to override the default hidden behavior on the sphinx rendered scikit-learn.org. See: https://github.com/scikit-learn/scikit-learn/issues/21755 */display: inline-block !important;position: relative;}#sk-container-id-1 div.sk-text-repr-fallback {display: none;}</style><div id=\"sk-container-id-1\" class=\"sk-top-container\"><div class=\"sk-text-repr-fallback\"><pre>LinearRegression()</pre><b>In a Jupyter environment, please rerun this cell to show the HTML representation or trust the notebook. <br />On GitHub, the HTML representation is unable to render, please try loading this page with nbviewer.org.</b></div><div class=\"sk-container\" hidden><div class=\"sk-item\"><div class=\"sk-estimator sk-toggleable\"><input class=\"sk-toggleable__control sk-hidden--visually\" id=\"sk-estimator-id-1\" type=\"checkbox\" checked><label for=\"sk-estimator-id-1\" class=\"sk-toggleable__label sk-toggleable__label-arrow\">LinearRegression</label><div class=\"sk-toggleable__content\"><pre>LinearRegression()</pre></div></div></div></div></div>"
            ]
          },
          "metadata": {},
          "execution_count": 8
        }
      ]
    },
    {
      "cell_type": "code",
      "source": [
        "model.predict(X_test)"
      ],
      "metadata": {
        "colab": {
          "base_uri": "https://localhost:8080/"
        },
        "id": "z57PuiRmI3nA",
        "outputId": "7a525e51-f742-4b38-8ea5-bb381ee4a4e7"
      },
      "execution_count": null,
      "outputs": [
        {
          "output_type": "execute_result",
          "data": {
            "text/plain": [
              "array([-342.45710867, -633.75325757, -288.58677605, ..., 4680.00433358,\n",
              "        -99.39122263, -362.9951452 ])"
            ]
          },
          "metadata": {},
          "execution_count": 10
        }
      ]
    },
    {
      "cell_type": "code",
      "source": [],
      "metadata": {
        "id": "YUEohRnYS1wJ"
      },
      "execution_count": null,
      "outputs": []
    },
    {
      "cell_type": "code",
      "execution_count": null,
      "metadata": {
        "id": "sURew-E3rspO"
      },
      "outputs": [],
      "source": [
        "y_pred=model.predict(X_test)"
      ]
    },
    {
      "cell_type": "markdown",
      "metadata": {
        "id": "RoXYc-33rspO"
      },
      "source": [
        "#### Checking R2 Score"
      ]
    },
    {
      "cell_type": "code",
      "execution_count": null,
      "metadata": {
        "colab": {
          "base_uri": "https://localhost:8080/"
        },
        "id": "NNUAsiY7rspO",
        "outputId": "78887c4a-05c0-41da-9d10-83fb0bbb396a"
      },
      "outputs": [
        {
          "output_type": "execute_result",
          "data": {
            "text/plain": [
              "0.6988907106403803"
            ]
          },
          "metadata": {},
          "execution_count": 13
        }
      ],
      "source": [
        "from sklearn.metrics import r2_score\n",
        "r2_score(y_test,y_pred)"
      ]
    },
    {
      "cell_type": "code",
      "source": [
        "fig, ax = plt.subplots()\n",
        "ax.scatter(y_test, y_pred)\n",
        "ax.plot([y.min(), y.max()], [y.min(), y.max()], 'k--', lw=4)\n",
        "ax.set_xlabel('Actual')\n",
        "ax.set_ylabel('Predicted')\n",
        "ax.annotate(\"r-squared = {:.3f}\".format(r2_score(y_test, y_pred)), (0, 1))"
      ],
      "metadata": {
        "colab": {
          "base_uri": "https://localhost:8080/",
          "height": 467
        },
        "id": "B9EUbpJYRRkq",
        "outputId": "a1c53e7e-a560-438d-f899-ed8efea95ec2"
      },
      "execution_count": null,
      "outputs": [
        {
          "output_type": "execute_result",
          "data": {
            "text/plain": [
              "Text(0, 1, 'r-squared = 0.699')"
            ]
          },
          "metadata": {},
          "execution_count": 17
        },
        {
          "output_type": "display_data",
          "data": {
            "text/plain": [
              "<Figure size 640x480 with 1 Axes>"
            ],
            "image/png": "[encoded data removed]"
          },
          "metadata": {}
        }
      ]
    },
    {
      "cell_type": "code",
      "source": [
        "import pickle\n",
        "pickle.dump(model,open('RNN.pkl','wb'))"
      ],
      "metadata": {
        "id": "KcJ4Wb5WTY84"
      },
      "execution_count": null,
      "outputs": []
    },
    {
      "cell_type": "code",
      "source": [
        "import pickle\n",
        "\n",
        "# Step 1: Load the saved model\n",
        "with open('RNN.pkl', 'rb') as file:\n",
        "    loaded_model = pickle.load(file)\n",
        "\n",
        "predictions = loaded_model.predict(X_new)\n",
        "\n",
        "# Step 4: Use the predictions as needed\n",
        "print(predictions)\n"
      ],
      "metadata": {
        "id": "gCMUN7mnhw9N"
      },
      "execution_count": null,
      "outputs": []
    }
  ]
}